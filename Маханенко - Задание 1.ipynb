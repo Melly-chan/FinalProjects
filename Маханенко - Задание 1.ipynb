{
  "cells": [
    {
      "cell_type": "code",
      "source": [
        "import math\n",
        "\n",
        "# Функция для расчета точной суммы\n",
        "def hyperbolic_arcsine_sum(x_val):\n",
        "    return asinh(1 / x_val)\n",
        "\n",
        "# Функция для расчета коэффициента ряда\n",
        "def series_coeff(i_term, x_val):\n",
        "    numerator = (-1) ** (i_term) * (math.factorial(2 * i_term)) * x_val ** (-2 * i_term - 1)\n",
        "    denominator = (4 ** i_term) * (2 * i_term + 1) * (math.factorial(i_term)) ** 2\n",
        "    coeff = numerator / denominator\n",
        "    return coeff\n",
        "\n",
        "# Наивная сумма\n",
        "def naive_series_sum(num_terms, x_val):\n",
        "    naive_sum = 0.0\n",
        "    for i in range(num_terms):\n",
        "        naive_sum += series_coeff(i, x_val)\n",
        "    return naive_sum\n",
        "\n",
        "# Функция для поиска подходящего n\n",
        "def appropriate_n_value(x_val, precision_threshold):\n",
        "    n_val = 0\n",
        "    while abs(series_coeff(n_val, x_val)) > precision_threshold:\n",
        "        n_val += 1\n",
        "    return n_val\n",
        "\n",
        "# Сумма с использованием алгоритма Кэхена\n",
        "def kahan_algorithm_sum(n_terms, x_val):\n",
        "    k_sum = 0.0\n",
        "    comp = 0.0  # компенсация\n",
        "    for i in range(n_terms):\n",
        "        y_val = series_coeff(i, x_val) - comp\n",
        "        temp = k_sum + y_val\n",
        "        comp = (temp - k_sum) - y_val\n",
        "        k_sum = temp\n",
        "    return k_sum\n",
        "\n",
        "# Сумма с сортировкой слагаемых\n",
        "def sorted_components_sum(n_terms, x_val):\n",
        "    coeffs = [series_coeff(i, x_val) for i in range(n_terms)]\n",
        "    coeffs.sort()  # сортируем, так как требуется возрастание\n",
        "    return sum(coeffs)\n",
        "\n",
        "# Вывод результатов на экран\n",
        "def display_results(point_name, x_value, precision):\n",
        "    n_value = appropriate_n_value(x_value, precision)\n",
        "    exact_value = hyperbolic_arcsine_sum(x_value)\n",
        "    print(f\"--- Точка {point_name} ---\")\n",
        "    print(f\"Количество слагаемых n: {n_value}\")\n",
        "    print(f\"Точное значение        : {exact_value:.15f}\")\n",
        "\n",
        "    for sum_func, desc in [(naive_series_sum, \"наивная\"), (sorted_components_sum, \"с сортировкой\"), (kahan_algorithm_sum, \"Кэхен\")]:\n",
        "        result = sum_func(n_value, x_value)\n",
        "        deviation = abs(exact_value - result)\n",
        "        print(f\"{desc.capitalize()} сумма  : {result:.15f}\")\n",
        "        print(f\"Отклонение от точного : {deviation:.15f}\")\n",
        "    print()\n",
        "\n",
        "# Задаем значения и точность\n",
        "FIRST_POINT = 100\n",
        "SECOND_POINT = 8 / 7\n",
        "PRECISION = 10 ** (-12)\n",
        "\n",
        "display_results('Первая', FIRST_POINT, PRECISION)\n",
        "display_results('Вторая', SECOND_POINT, PRECISION)\n"
      ],
      "metadata": {
        "colab": {
          "base_uri": "https://localhost:8080/"
        },
        "id": "I9xJNxXuHmzV",
        "outputId": "33734fd1-beb5-4d88-8108-02f0d1b49767"
      },
      "execution_count": 56,
      "outputs": [
        {
          "output_type": "stream",
          "name": "stdout",
          "text": [
            "--- Точка Первая ---\n",
            "Количество слагаемых n: 3\n",
            "Точное значение        : 0.009999833340833\n",
            "Наивная сумма  : 0.009999833340833\n",
            "Отклонение от точного : 0.000000000000000\n",
            "С сортировкой сумма  : 0.009999833340833\n",
            "Отклонение от точного : 0.000000000000000\n",
            "Кэхен сумма  : 0.009999833340833\n",
            "Отклонение от точного : 0.000000000000000\n",
            "\n",
            "--- Точка Вторая ---\n",
            "Количество слагаемых n: 75\n",
            "Точное значение        : 0.790168725412397\n",
            "Наивная сумма  : 0.790168725412828\n",
            "Отклонение от точного : 0.000000000000431\n",
            "С сортировкой сумма  : 0.790168725412828\n",
            "Отклонение от точного : 0.000000000000431\n",
            "Кэхен сумма  : 0.790168725412828\n",
            "Отклонение от точного : 0.000000000000431\n",
            "\n"
          ]
        }
      ]
    }
  ],
  "metadata": {
    "kernelspec": {
      "display_name": "Python 3",
      "language": "python",
      "name": "python3"
    },
    "language_info": {
      "codemirror_mode": {
        "name": "ipython",
        "version": 3
      },
      "file_extension": ".py",
      "mimetype": "text/x-python",
      "name": "python",
      "nbconvert_exporter": "python",
      "pygments_lexer": "ipython3",
      "version": "3.11.5"
    },
    "colab": {
      "provenance": []
    }
  },
  "nbformat": 4,
  "nbformat_minor": 0
}