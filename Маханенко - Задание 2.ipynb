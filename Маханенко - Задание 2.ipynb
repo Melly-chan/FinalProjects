{
  "cells": [
    {
      "cell_type": "code",
      "source": [
        "import numpy as np\n",
        "import pandas as pd\n",
        "\n",
        "epsilon = 1e-8  # Предел точности вычислений\n",
        "omega_range = np.linspace(-20, 0, 101)  # Дипазон значений omega\n",
        "\n",
        "# Функция для вычисления J2\n",
        "def J2_function(x):\n",
        "    term_index = 0  # Индекс текущего члена ряда\n",
        "    current_term = 1  # Текущий член ряда\n",
        "    direct_summation = 0  # Прямая сумма\n",
        "    terms_list = []  # Список всех членов ряда\n",
        "    while np.abs(current_term) > epsilon and term_index <= 100:\n",
        "        current_term = (-1) ** term_index * x ** (2 * (term_index + 1)) \\\n",
        "                       / (np.math.factorial(term_index) * np.math.factorial(term_index + 2) * 4 ** (term_index + 1))\n",
        "        terms_list.append(current_term)\n",
        "        direct_summation += current_term\n",
        "        term_index += 1\n",
        "    sorted_summation = np.sum(np.sort(terms_list))\n",
        "    return term_index, f\"{direct_summation:.15f}\", f\"{sorted_summation:.15f}\"\n",
        "\n",
        "# Генерация данных для DataFrame и прямое добавление их в DataFrame\n",
        "data = {\n",
        "    'x_i': [f\"{ω:.1f}\" for ω in omega_range],\n",
        "    'n': [],\n",
        "    'sum_1': [],\n",
        "    'sum_2': [],\n",
        "}\n",
        "\n",
        "# Обработка каждой точки из omega_range\n",
        "for omega_value in omega_range:\n",
        "    terms_count, sum_direct, sum_sorted = J2_function(omega_value)\n",
        "    data['n'].append(terms_count)\n",
        "    data['sum_1'].append(sum_direct)\n",
        "    data['sum_2'].append(sum_sorted)\n",
        "\n",
        "# Создание DataFrame и сохранение его в CSV-файл\n",
        "data_frame = pd.DataFrame(data)\n",
        "data_frame.to_csv('data_v2.csv', index=False)\n",
        "\n"
      ],
      "metadata": {
        "id": "I9xJNxXuHmzV"
      },
      "execution_count": 71,
      "outputs": []
    }
  ],
  "metadata": {
    "kernelspec": {
      "display_name": "Python 3",
      "language": "python",
      "name": "python3"
    },
    "language_info": {
      "codemirror_mode": {
        "name": "ipython",
        "version": 3
      },
      "file_extension": ".py",
      "mimetype": "text/x-python",
      "name": "python",
      "nbconvert_exporter": "python",
      "pygments_lexer": "ipython3",
      "version": "3.11.5"
    },
    "colab": {
      "provenance": []
    }
  },
  "nbformat": 4,
  "nbformat_minor": 0
}